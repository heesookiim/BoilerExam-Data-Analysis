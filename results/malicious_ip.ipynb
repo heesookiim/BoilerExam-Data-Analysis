{
 "cells": [
  {
   "cell_type": "markdown",
   "metadata": {},
   "source": [
    "#### **1. Introduction**\n",
    "First, I focused on **requests** as I have some prior experience in REST API. There, I noticed that one IP address was requesting somewhat differently from other requests.\n",
    "\n",
    "The IP address `52.169.249.118` has been making repeated requests to access other WordPress-related PHP files.\n",
    "  - Here, I had to do my own research because I'm not familiar with WordPress and PHP. \n",
    "  - According to the official document, WordPress is an open-source content management system commonly used for building websites. \n",
    "\n",
    "Why is this unusual?\n",
    "  - According to [_isitwp.com_](https://isitwp.com/), BoilerExam does **not** use WordPress. \n",
    "  \n",
    "      = requests may be part of an automated scan or a targeted attempt to exploit potential vulnerabilities."
   ]
  },
  {
   "cell_type": "code",
   "execution_count": null,
   "metadata": {},
   "outputs": [],
   "source": [
    "!pip install polars pyarrow fastparquet matplotlib geopy"
   ]
  },
  {
   "cell_type": "code",
   "execution_count": 2,
   "metadata": {},
   "outputs": [],
   "source": [
    "import polars as pl\n",
    "import matplotlib.pyplot as plt\n",
    "import pandas as pd"
   ]
  },
  {
   "cell_type": "code",
   "execution_count": 3,
   "metadata": {},
   "outputs": [],
   "source": [
    "df = pl.read_parquet('../data/logs.parquet')"
   ]
  },
  {
   "cell_type": "code",
   "execution_count": 4,
   "metadata": {},
   "outputs": [
    {
     "name": "stdout",
     "output_type": "stream",
     "text": [
      "shape: (458, 8)\n",
      "┌─────────────┬──────┬─────────────┬─────────────┬─────────────┬────────────┬─────────┬────────────┐\n",
      "│ client_ip   ┆ user ┆ time        ┆ request     ┆ http_status ┆ request_bo ┆ referer ┆ user_agent │\n",
      "│ ---         ┆ ---  ┆ ---         ┆ ---         ┆ ---         ┆ dy_bytes   ┆ ---     ┆ ---        │\n",
      "│ str         ┆ str  ┆ datetime[μs ┆ str         ┆ u16         ┆ ---        ┆ str     ┆ str        │\n",
      "│             ┆      ┆ ]           ┆             ┆             ┆ u64        ┆         ┆            │\n",
      "╞═════════════╪══════╪═════════════╪═════════════╪═════════════╪════════════╪═════════╪════════════╡\n",
      "│ 52.169.249. ┆ null ┆ 2024-11-08  ┆ GET         ┆ 301         ┆ 178        ┆ null    ┆ null       │\n",
      "│ 118         ┆      ┆ 00:20:17    ┆ /403.php    ┆             ┆            ┆         ┆            │\n",
      "│             ┆      ┆             ┆ HTTP/1.1    ┆             ┆            ┆         ┆            │\n",
      "│ 52.169.249. ┆ null ┆ 2024-11-08  ┆ GET         ┆ 200         ┆ 2580       ┆ null    ┆ null       │\n",
      "│ 118         ┆      ┆ 00:20:17    ┆ /403.php    ┆             ┆            ┆         ┆            │\n",
      "│             ┆      ┆             ┆ HTTP/1.1    ┆             ┆            ┆         ┆            │\n",
      "│ 52.169.249. ┆ null ┆ 2024-11-08  ┆ GET /conten ┆ 301         ┆ 178        ┆ null    ┆ null       │\n",
      "│ 118         ┆      ┆ 00:20:17    ┆ t.php       ┆             ┆            ┆         ┆            │\n",
      "│             ┆      ┆             ┆ HTTP/1.1    ┆             ┆            ┆         ┆            │\n",
      "│ 52.169.249. ┆ null ┆ 2024-11-08  ┆ GET /conten ┆ 200         ┆ 2580       ┆ null    ┆ null       │\n",
      "│ 118         ┆      ┆ 00:20:17    ┆ t.php       ┆             ┆            ┆         ┆            │\n",
      "│             ┆      ┆             ┆ HTTP/1.1    ┆             ┆            ┆         ┆            │\n",
      "│ 52.169.249. ┆ null ┆ 2024-11-08  ┆ GET /wp-con ┆ 301         ┆ 178        ┆ null    ┆ null       │\n",
      "│ 118         ┆      ┆ 00:20:17    ┆ tent/plugin ┆             ┆            ┆         ┆            │\n",
      "│             ┆      ┆             ┆ s/not/in…   ┆             ┆            ┆         ┆            │\n",
      "│ …           ┆ …    ┆ …           ┆ …           ┆ …           ┆ …          ┆ …       ┆ …          │\n",
      "│ 52.169.249. ┆ null ┆ 2024-11-08  ┆ GET         ┆ 200         ┆ 2580       ┆ null    ┆ null       │\n",
      "│ 118         ┆      ┆ 00:21:01    ┆ /text.php   ┆             ┆            ┆         ┆            │\n",
      "│             ┆      ┆             ┆ HTTP/1.1    ┆             ┆            ┆         ┆            │\n",
      "│ 52.169.249. ┆ null ┆ 2024-11-08  ┆ GET /wp-adm ┆ 301         ┆ 178        ┆ null    ┆ null       │\n",
      "│ 118         ┆      ┆ 00:21:01    ┆ in/network/ ┆             ┆            ┆         ┆            │\n",
      "│             ┆      ┆             ┆ index.ph…   ┆             ┆            ┆         ┆            │\n",
      "│ 52.169.249. ┆ null ┆ 2024-11-08  ┆ GET /wp-adm ┆ 200         ┆ 2580       ┆ null    ┆ null       │\n",
      "│ 118         ┆      ┆ 00:21:01    ┆ in/network/ ┆             ┆            ┆         ┆            │\n",
      "│             ┆      ┆             ┆ index.ph…   ┆             ┆            ┆         ┆            │\n",
      "│ 52.169.249. ┆ null ┆ 2024-11-08  ┆ GET /makeas ┆ 301         ┆ 178        ┆ null    ┆ null       │\n",
      "│ 118         ┆      ┆ 00:21:01    ┆ mtp.php     ┆             ┆            ┆         ┆            │\n",
      "│             ┆      ┆             ┆ HTTP/1.1    ┆             ┆            ┆         ┆            │\n",
      "│ 52.169.249. ┆ null ┆ 2024-11-08  ┆ GET /makeas ┆ 200         ┆ 2580       ┆ null    ┆ null       │\n",
      "│ 118         ┆      ┆ 00:21:01    ┆ mtp.php     ┆             ┆            ┆         ┆            │\n",
      "│             ┆      ┆             ┆ HTTP/1.1    ┆             ┆            ┆         ┆            │\n",
      "└─────────────┴──────┴─────────────┴─────────────┴─────────────┴────────────┴─────────┴────────────┘\n"
     ]
    }
   ],
   "source": [
    "# Run the SQL query\n",
    "query = \"SELECT * FROM data WHERE client_ip = '52.169.249.118';\"\n",
    "malicious_data = df.filter(pl.col('client_ip') == '52.169.249.118')\n",
    "\n",
    "# Display the result\n",
    "print(malicious_data)\n",
    "malicious_data.write_csv('../data_preprocess/malcious_ip.csv')"
   ]
  },
  {
   "cell_type": "markdown",
   "metadata": {},
   "source": [
    "#### 2. **Analysis on `request`**\n",
    "All high-frequency requests target files like `/wp-includes/`, `/wp-admin/`, and `/wp-content/`.\n",
    "\n",
    "  - Each file was requested multiple times, indicating systematic probing, likely from an automated bot or script."
   ]
  },
  {
   "cell_type": "code",
   "execution_count": 5,
   "metadata": {},
   "outputs": [
    {
     "data": {
      "text/html": [
       "<div><style>\n",
       ".dataframe > thead > tr,\n",
       ".dataframe > tbody > tr {\n",
       "  text-align: right;\n",
       "  white-space: pre-wrap;\n",
       "}\n",
       "</style>\n",
       "<small>shape: (10, 2)</small><table border=\"1\" class=\"dataframe\"><thead><tr><th>request</th><th>count</th></tr><tr><td>str</td><td>u32</td></tr></thead><tbody><tr><td>&quot;GET /wp-admin/includes/cloud.p…</td><td>2</td></tr><tr><td>&quot;GET /wp-consar.php HTTP/1.1&quot;</td><td>2</td></tr><tr><td>&quot;GET /wp-content/themes/admin.p…</td><td>2</td></tr><tr><td>&quot;GET /alfa-rex2.php7 HTTP/1.1&quot;</td><td>2</td></tr><tr><td>&quot;GET /wp-includes/Requests/abou…</td><td>2</td></tr><tr><td>&quot;GET /wp-admin/ajax-actions.php…</td><td>2</td></tr><tr><td>&quot;GET /xmrlpc.php?p= HTTP/1.1&quot;</td><td>2</td></tr><tr><td>&quot;GET /wp-content/plugins/simple…</td><td>2</td></tr><tr><td>&quot;GET /wp-content/plugins/seoplu…</td><td>2</td></tr><tr><td>&quot;GET /wp-admin/network/index.ph…</td><td>2</td></tr></tbody></table></div>"
      ],
      "text/plain": [
       "shape: (10, 2)\n",
       "┌─────────────────────────────────┬───────┐\n",
       "│ request                         ┆ count │\n",
       "│ ---                             ┆ ---   │\n",
       "│ str                             ┆ u32   │\n",
       "╞═════════════════════════════════╪═══════╡\n",
       "│ GET /wp-admin/includes/cloud.p… ┆ 2     │\n",
       "│ GET /wp-consar.php HTTP/1.1     ┆ 2     │\n",
       "│ GET /wp-content/themes/admin.p… ┆ 2     │\n",
       "│ GET /alfa-rex2.php7 HTTP/1.1    ┆ 2     │\n",
       "│ GET /wp-includes/Requests/abou… ┆ 2     │\n",
       "│ GET /wp-admin/ajax-actions.php… ┆ 2     │\n",
       "│ GET /xmrlpc.php?p= HTTP/1.1     ┆ 2     │\n",
       "│ GET /wp-content/plugins/simple… ┆ 2     │\n",
       "│ GET /wp-content/plugins/seoplu… ┆ 2     │\n",
       "│ GET /wp-admin/network/index.ph… ┆ 2     │\n",
       "└─────────────────────────────────┴───────┘"
      ]
     },
     "execution_count": 5,
     "metadata": {},
     "output_type": "execute_result"
    }
   ],
   "source": [
    "# Get the top 10 requested paths\n",
    "request_counts = malicious_data['request'].value_counts().head(10)\n",
    "\n",
    "# Display the counts of the top requests\n",
    "request_counts"
   ]
  },
  {
   "cell_type": "markdown",
   "metadata": {},
   "source": [
    "#### 3. **Analysis on Time**\n",
    "A closer look at the timestamps of the requests reveals suspicious patterns:\n",
    "\n",
    "- **High-Volume Burst**:\n",
    "  - An overwhelming **438 requests** occurred in a single minute.\n",
    "  - This is a strong indicator of automated activity, such as a bot or a script rapidly probing for vulnerabilities.\n",
    "\n",
    "- **Drop-Off**:\n",
    "  - After the burst of activity, only 20 requests were observed in the next minute, suggesting:\n",
    "    - The server may have implemented rate-limiting or defenses.\n",
    "    - The bot/script may have stopped or switched its focus.\n"
   ]
  },
  {
   "cell_type": "code",
   "execution_count": 6,
   "metadata": {},
   "outputs": [
    {
     "data": {
      "image/png": "[encoded data removed]",
      "text/plain": [
       "<Figure size 640x480 with 1 Axes>"
      ]
     },
     "metadata": {},
     "output_type": "display_data"
    }
   ],
   "source": [
    "import polars as pl\n",
    "import matplotlib.pyplot as plt\n",
    "\n",
    "# Ensure 'time' is in datetime format\n",
    "if malicious_data.schema[\"time\"] != pl.Datetime:\n",
    "    malicious_data = malicious_data.with_columns(\n",
    "        pl.col(\"time\").str.strptime(pl.Datetime, format=\"%Y-%m-%dT%H:%M:%S%.f\")\n",
    "    )\n",
    "\n",
    "# Extract the minute part from the datetime column\n",
    "malicious_data = malicious_data.with_columns(\n",
    "    pl.col(\"time\").dt.minute().alias(\"minute\")  # Extract the minute\n",
    ")\n",
    "\n",
    "# Count the occurrences per minute using Polars' grouping and aggregation\n",
    "minute_counts = malicious_data.group_by(\"minute\").agg([\n",
    "    pl.col(\"time\").count().alias(\"request_count\")\n",
    "])\n",
    "\n",
    "# Convert to Pandas for plotting\n",
    "minute_counts_df = minute_counts.to_pandas()\n",
    "\n",
    "# Plot the results\n",
    "plt.figure()\n",
    "plt.plot(minute_counts_df[\"minute\"], minute_counts_df[\"request_count\"], marker='o', color='red')\n",
    "plt.title('Request Frequency Over Time (By Minute)', fontsize=14)\n",
    "plt.xlabel('Minute of the Hour', fontsize=12)\n",
    "plt.ylabel('Number of Requests', fontsize=12)\n",
    "plt.grid(True)\n",
    "plt.tight_layout()\n",
    "plt.show()\n"
   ]
  },
  {
   "cell_type": "markdown",
   "metadata": {},
   "source": [
    "#### Key Takeaways:\n",
    "1. **Exploitation Suspected**:\n",
    "   - The targeted paths and the volume of requests indicate exploitation attempts by an automated bot.\n",
    "\n",
    "2. **Potential Risks**:\n",
    "   - While BoilerExam does not use WordPress, these requests highlight the importance of securing endpoints and ensuring proper server configurations to prevent unauthorized access.\n",
    "\n",
    "3. **Time-Based Analysis**:\n",
    "   - The sharp spike in requests within a short time confirms the presence of automated activity.\n"
   ]
  },
  {
   "cell_type": "markdown",
   "metadata": {},
   "source": [
    "#### Possible solutions:\n",
    "1. **Block Malicious IPs**:\n",
    "   - Immediately block the IP `52.169.249.118` at the server or firewall level.\n",
    "\n",
    "2. **Implement Rate Limiting**:\n",
    "   - Set up rate-limiting to prevent bots or scripts from overwhelming the server with requests.\n",
    "\n",
    "3. **Monitor Logs**:\n",
    "   - Regularly analyze logs to detect and respond to suspicious activity promptly.\n",
    "\n",
    "4. **Strengthen Server Security**:\n",
    "   - Disable access to unnecessary PHP files.\n",
    "   - Ensure proper server configuration to handle unexpected or malicious requests.\n",
    "\n",
    "5. **Conduct Further Analysis**:\n",
    "   - Investigate if other IPs are exhibiting similar patterns.\n",
    "   - Perform geolocation analysis to determine the origin of these requests.\n",
    "   - Investigate if getting php files are really malicious\n"
   ]
  },
  {
   "cell_type": "markdown",
   "metadata": {},
   "source": []
  }
 ],
 "metadata": {
  "kernelspec": {
   "display_name": "envML",
   "language": "python",
   "name": "python3"
  },
  "language_info": {
   "codemirror_mode": {
    "name": "ipython",
    "version": 3
   },
   "file_extension": ".py",
   "mimetype": "text/x-python",
   "name": "python",
   "nbconvert_exporter": "python",
   "pygments_lexer": "ipython3",
   "version": "3.12.1"
  }
 },
 "nbformat": 4,
 "nbformat_minor": 2
}
